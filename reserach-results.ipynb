{
 "cells": [
  {
   "cell_type": "markdown",
   "id": "f724ad2b-7c17-40e3-bd75-d04eb94bf3dd",
   "metadata": {},
   "source": [
    "### Final results\n",
    "\n",
    "Now, after the EXTEVAL-research and the EXTEVAL-Modified-research, the results from both researches are compared. \n",
    "\n",
    "For this the new scores of the corrected summaries are compared, to see which approach led to a better correction. The results will be visualised and in the end there will follow a conclusion on what worked better and should be used for future LLM correctors (such as `GPT-4 mini`)."
   ]
  },
  {
   "cell_type": "code",
   "execution_count": null,
   "id": "314420e3-9737-41be-b001-3da688a5bd10",
   "metadata": {},
   "outputs": [],
   "source": []
  },
  {
   "cell_type": "code",
   "execution_count": null,
   "id": "a0c08b2a-d024-4d14-b86d-624a994e6886",
   "metadata": {},
   "outputs": [],
   "source": []
  }
 ],
 "metadata": {
  "kernelspec": {
   "display_name": "Python 3 (ipykernel)",
   "language": "python",
   "name": "python3"
  },
  "language_info": {
   "codemirror_mode": {
    "name": "ipython",
    "version": 3
   },
   "file_extension": ".py",
   "mimetype": "text/x-python",
   "name": "python",
   "nbconvert_exporter": "python",
   "pygments_lexer": "ipython3",
   "version": "3.8.13"
  }
 },
 "nbformat": 4,
 "nbformat_minor": 5
}
